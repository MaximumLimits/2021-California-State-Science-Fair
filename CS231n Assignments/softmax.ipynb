{
 "cells": [
  {
   "cell_type": "markdown",
   "metadata": {
    "tags": [
     "pdf-title"
    ]
   },
   "source": [
    "# Softmax exercise\n",
    "\n",
    "*Complete and hand in this completed worksheet (including its outputs and any supporting code outside of the worksheet) with your assignment submission. For more details see the [assignments page](http://vision.stanford.edu/teaching/cs231n/assignments.html) on the course website.*\n",
    "\n",
    "This exercise is analogous to the SVM exercise. You will:\n",
    "\n",
    "- implement a fully-vectorized **loss function** for the Softmax classifier\n",
    "- implement the fully-vectorized expression for its **analytic gradient**\n",
    "- **check your implementation** with numerical gradient\n",
    "- use a validation set to **tune the learning rate and regularization** strength\n",
    "- **optimize** the loss function with **SGD**\n",
    "- **visualize** the final learned weights\n"
   ]
  },
  {
   "cell_type": "code",
   "execution_count": 18,
   "metadata": {
    "tags": [
     "pdf-ignore"
    ]
   },
   "outputs": [
    {
     "name": "stdout",
     "output_type": "stream",
     "text": [
      "The autoreload extension is already loaded. To reload it, use:\n",
      "  %reload_ext autoreload\n"
     ]
    }
   ],
   "source": [
    "import random\n",
    "import numpy as np\n",
    "from cs231n.data_utils import load_CIFAR10\n",
    "import matplotlib.pyplot as plt\n",
    "\n",
    "%matplotlib inline\n",
    "plt.rcParams['figure.figsize'] = (10.0, 8.0) # set default size of plots\n",
    "plt.rcParams['image.interpolation'] = 'nearest'\n",
    "plt.rcParams['image.cmap'] = 'gray'\n",
    "\n",
    "# for auto-reloading extenrnal modules\n",
    "# see http://stackoverflow.com/questions/1907993/autoreload-of-modules-in-ipython\n",
    "%load_ext autoreload\n",
    "%autoreload 2"
   ]
  },
  {
   "cell_type": "code",
   "execution_count": 19,
   "metadata": {
    "tags": [
     "pdf-ignore"
    ]
   },
   "outputs": [
    {
     "name": "stdout",
     "output_type": "stream",
     "text": [
      "Train data shape:  (49000, 3073)\n",
      "Train labels shape:  (49000,)\n",
      "Validation data shape:  (1000, 3073)\n",
      "Validation labels shape:  (1000,)\n",
      "Test data shape:  (1000, 3073)\n",
      "Test labels shape:  (1000,)\n",
      "dev data shape:  (500, 3073)\n",
      "dev labels shape:  (500,)\n"
     ]
    }
   ],
   "source": [
    "def get_CIFAR10_data(num_training=49000, num_validation=1000, num_test=1000, num_dev=500):\n",
    "    \"\"\"\n",
    "    Load the CIFAR-10 dataset from disk and perform preprocessing to prepare\n",
    "    it for the linear classifier. These are the same steps as we used for the\n",
    "    SVM, but condensed to a single function.  \n",
    "    \"\"\"\n",
    "    # Load the raw CIFAR-10 data\n",
    "    cifar10_dir = 'cs231n/datasets/cifar-10-batches-py'\n",
    "    \n",
    "    # Cleaning up variables to prevent loading data multiple times (which may cause memory issue)\n",
    "    try:\n",
    "       del X_train, y_train\n",
    "       del X_test, y_test\n",
    "       print('Clear previously loaded data.')\n",
    "    except:\n",
    "       pass\n",
    "\n",
    "    X_train, y_train, X_test, y_test = load_CIFAR10(cifar10_dir)\n",
    "    \n",
    "    # subsample the data\n",
    "    mask = list(range(num_training, num_training + num_validation))\n",
    "    X_val = X_train[mask]\n",
    "    y_val = y_train[mask]\n",
    "    mask = list(range(num_training))\n",
    "    X_train = X_train[mask]\n",
    "    y_train = y_train[mask]\n",
    "    mask = list(range(num_test))\n",
    "    X_test = X_test[mask]\n",
    "    y_test = y_test[mask]\n",
    "    mask = np.random.choice(num_training, num_dev, replace=False)\n",
    "    X_dev = X_train[mask]\n",
    "    y_dev = y_train[mask]\n",
    "    \n",
    "    # Preprocessing: reshape the image data into rows\n",
    "    X_train = np.reshape(X_train, (X_train.shape[0], -1))\n",
    "    X_val = np.reshape(X_val, (X_val.shape[0], -1))\n",
    "    X_test = np.reshape(X_test, (X_test.shape[0], -1))\n",
    "    X_dev = np.reshape(X_dev, (X_dev.shape[0], -1))\n",
    "    \n",
    "    # Normalize the data: subtract the mean image\n",
    "    mean_image = np.mean(X_train, axis = 0)\n",
    "    X_train -= mean_image\n",
    "    X_val -= mean_image\n",
    "    X_test -= mean_image\n",
    "    X_dev -= mean_image\n",
    "    \n",
    "    # add bias dimension and transform into columns\n",
    "    X_train = np.hstack([X_train, np.ones((X_train.shape[0], 1))])\n",
    "    X_val = np.hstack([X_val, np.ones((X_val.shape[0], 1))])\n",
    "    X_test = np.hstack([X_test, np.ones((X_test.shape[0], 1))])\n",
    "    X_dev = np.hstack([X_dev, np.ones((X_dev.shape[0], 1))])\n",
    "    \n",
    "    return X_train, y_train, X_val, y_val, X_test, y_test, X_dev, y_dev\n",
    "\n",
    "\n",
    "# Invoke the above function to get our data.\n",
    "X_train, y_train, X_val, y_val, X_test, y_test, X_dev, y_dev = get_CIFAR10_data()\n",
    "print('Train data shape: ', X_train.shape)\n",
    "print('Train labels shape: ', y_train.shape)\n",
    "print('Validation data shape: ', X_val.shape)\n",
    "print('Validation labels shape: ', y_val.shape)\n",
    "print('Test data shape: ', X_test.shape)\n",
    "print('Test labels shape: ', y_test.shape)\n",
    "print('dev data shape: ', X_dev.shape)\n",
    "print('dev labels shape: ', y_dev.shape)"
   ]
  },
  {
   "cell_type": "markdown",
   "metadata": {},
   "source": [
    "## Softmax Classifier\n",
    "\n",
    "Your code for this section will all be written inside **cs231n/classifiers/softmax.py**. \n"
   ]
  },
  {
   "cell_type": "code",
   "execution_count": 22,
   "metadata": {},
   "outputs": [
    {
     "name": "stdout",
     "output_type": "stream",
     "text": [
      "loss: 2.374147\n",
      "sanity check: 2.302585\n"
     ]
    }
   ],
   "source": [
    "# First implement the naive softmax loss function with nested loops.\n",
    "# Open the file cs231n/classifiers/softmax.py and implement the\n",
    "# softmax_loss_naive function.\n",
    "\n",
    "from cs231n.classifiers.softmax import softmax_loss_naive\n",
    "import time\n",
    "\n",
    "# Generate a random softmax weight matrix and use it to compute the loss.\n",
    "W = np.random.randn(3073, 10) * 0.0001\n",
    "loss, grad = softmax_loss_naive(W, X_dev, y_dev, 0.0)\n",
    "\n",
    "# As a rough sanity check, our loss should be something close to -log(0.1).\n",
    "print('loss: %f' % loss)\n",
    "print('sanity check: %f' % (-np.log(0.1)))"
   ]
  },
  {
   "cell_type": "markdown",
   "metadata": {
    "tags": [
     "pdf-inline"
    ]
   },
   "source": [
    "**Inline Question 1**\n",
    "\n",
    "Why do we expect our loss to be close to -log(0.1)? Explain briefly.**\n",
    "\n",
    "$\\color{blue}{\\textit Your Answer:}$ *Fill this in* \n",
    "\n",
    "In the beginning, the probabilities of all of the scores will be roughly the same. (Each class will have a probability of 0.1.) The loss is the negative log of the correct probabliity, and the correct probability is 0.1 just like all the other probabilities."
   ]
  },
  {
   "cell_type": "code",
   "execution_count": 23,
   "metadata": {},
   "outputs": [
    {
     "name": "stdout",
     "output_type": "stream",
     "text": [
      "numerical: -0.146591 analytic: -0.146592, relative error: 1.393714e-07\n",
      "numerical: -3.320985 analytic: -3.320985, relative error: 8.147925e-09\n",
      "numerical: 0.843726 analytic: 0.843726, relative error: 7.564481e-08\n",
      "numerical: 1.262098 analytic: 1.262098, relative error: 6.730453e-08\n",
      "numerical: 0.115916 analytic: 0.115916, relative error: 4.318616e-07\n",
      "numerical: 0.599560 analytic: 0.599560, relative error: 5.006500e-08\n",
      "numerical: -0.230806 analytic: -0.230806, relative error: 2.124489e-07\n",
      "numerical: 1.244767 analytic: 1.244767, relative error: 5.773916e-08\n",
      "numerical: 2.301556 analytic: 2.301556, relative error: 4.295845e-09\n",
      "numerical: 0.959688 analytic: 0.959687, relative error: 7.590957e-08\n",
      "numerical: -0.336892 analytic: -0.336892, relative error: 1.046916e-07\n",
      "numerical: -2.200644 analytic: -2.200644, relative error: 1.994113e-08\n",
      "numerical: -2.579666 analytic: -2.579666, relative error: 2.212781e-10\n",
      "numerical: -0.034509 analytic: -0.034509, relative error: 6.549727e-08\n",
      "numerical: -5.916227 analytic: -5.916227, relative error: 5.164268e-09\n",
      "numerical: 0.603690 analytic: 0.603690, relative error: 9.099310e-08\n",
      "numerical: -1.474235 analytic: -1.474235, relative error: 7.357000e-09\n",
      "numerical: 3.060663 analytic: 3.060663, relative error: 2.409579e-08\n",
      "numerical: -1.572146 analytic: -1.572146, relative error: 1.867872e-09\n",
      "numerical: -0.206507 analytic: -0.206507, relative error: 5.405730e-08\n"
     ]
    }
   ],
   "source": [
    "# Complete the implementation of softmax_loss_naive and implement a (naive)\n",
    "# version of the gradient that uses nested loops.\n",
    "loss, grad = softmax_loss_naive(W, X_dev, y_dev, 0.0)\n",
    "\n",
    "# As we did for the SVM, use numeric gradient checking as a debugging tool.\n",
    "# The numeric gradient should be close to the analytic gradient.\n",
    "from cs231n.gradient_check import grad_check_sparse\n",
    "f = lambda w: softmax_loss_naive(w, X_dev, y_dev, 0.0)[0]\n",
    "grad_numerical = grad_check_sparse(f, W, grad, 10)\n",
    "\n",
    "# similar to SVM case, do another gradient check with regularization\n",
    "loss, grad = softmax_loss_naive(W, X_dev, y_dev, 5e1)\n",
    "f = lambda w: softmax_loss_naive(w, X_dev, y_dev, 5e1)[0]\n",
    "grad_numerical = grad_check_sparse(f, W, grad, 10)"
   ]
  },
  {
   "cell_type": "code",
   "execution_count": 29,
   "metadata": {},
   "outputs": [
    {
     "name": "stdout",
     "output_type": "stream",
     "text": [
      "naive loss: 2.374147e+00 computed in 0.096179s\n",
      "vectorized loss: 2.374147e+00 computed in 0.002999s\n",
      "Loss difference: 0.000000\n",
      "Gradient difference: 0.000000\n"
     ]
    }
   ],
   "source": [
    "# Now that we have a naive implementation of the softmax loss function and its gradient,\n",
    "# implement a vectorized version in softmax_loss_vectorized.\n",
    "# The two versions should compute the same results, but the vectorized version should be\n",
    "# much faster.\n",
    "tic = time.time()\n",
    "loss_naive, grad_naive = softmax_loss_naive(W, X_dev, y_dev, 0.000005)\n",
    "toc = time.time()\n",
    "print('naive loss: %e computed in %fs' % (loss_naive, toc - tic))\n",
    "\n",
    "from cs231n.classifiers.softmax import softmax_loss_vectorized\n",
    "tic = time.time()\n",
    "loss_vectorized, grad_vectorized = softmax_loss_vectorized(W, X_dev, y_dev, 0.000005)\n",
    "toc = time.time()\n",
    "print('vectorized loss: %e computed in %fs' % (loss_vectorized, toc - tic))\n",
    "\n",
    "# As we did for the SVM, we use the Frobenius norm to compare the two versions\n",
    "# of the gradient.\n",
    "grad_difference = np.linalg.norm(grad_naive - grad_vectorized, ord='fro')\n",
    "print('Loss difference: %f' % np.abs(loss_naive - loss_vectorized))\n",
    "print('Gradient difference: %f' % grad_difference)"
   ]
  },
  {
   "cell_type": "code",
   "execution_count": 42,
   "metadata": {
    "tags": [
     "code"
    ]
   },
   "outputs": [
    {
     "name": "stdout",
     "output_type": "stream",
     "text": [
      "9\n",
      "7\n",
      "LR: 1.000000e-06 | Reg: 1.500000e+04 | Train: 0.353082 | Val: 0.362000\n",
      "LR: 1.000000e-06 | Reg: 2.000000e+04 | Train: 0.346388 | Val: 0.361000\n",
      "LR: 1.000000e-06 | Reg: 2.500000e+04 | Train: 0.344449 | Val: 0.349000\n",
      "LR: 1.000000e-06 | Reg: 3.000000e+04 | Train: 0.339286 | Val: 0.352000\n",
      "LR: 1.000000e-06 | Reg: 3.500000e+04 | Train: 0.325857 | Val: 0.338000\n",
      "LR: 1.000000e-06 | Reg: 4.000000e+04 | Train: 0.331673 | Val: 0.329000\n",
      "LR: 1.000000e-06 | Reg: 4.500000e+04 | Train: 0.320857 | Val: 0.335000\n",
      "LR: 1.500000e-06 | Reg: 1.500000e+04 | Train: 0.355061 | Val: 0.360000\n",
      "LR: 1.500000e-06 | Reg: 2.000000e+04 | Train: 0.351224 | Val: 0.353000\n",
      "LR: 1.500000e-06 | Reg: 2.500000e+04 | Train: 0.346980 | Val: 0.354000\n",
      "LR: 1.500000e-06 | Reg: 3.000000e+04 | Train: 0.325755 | Val: 0.345000\n",
      "LR: 1.500000e-06 | Reg: 3.500000e+04 | Train: 0.327694 | Val: 0.334000\n",
      "LR: 1.500000e-06 | Reg: 4.000000e+04 | Train: 0.324020 | Val: 0.325000\n",
      "LR: 1.500000e-06 | Reg: 4.500000e+04 | Train: 0.330857 | Val: 0.336000\n",
      "LR: 2.000000e-06 | Reg: 1.500000e+04 | Train: 0.353796 | Val: 0.345000\n",
      "LR: 2.000000e-06 | Reg: 2.000000e+04 | Train: 0.325837 | Val: 0.326000\n",
      "LR: 2.000000e-06 | Reg: 2.500000e+04 | Train: 0.319327 | Val: 0.299000\n",
      "LR: 2.000000e-06 | Reg: 3.000000e+04 | Train: 0.312388 | Val: 0.332000\n",
      "LR: 2.000000e-06 | Reg: 3.500000e+04 | Train: 0.299653 | Val: 0.319000\n",
      "LR: 2.000000e-06 | Reg: 4.000000e+04 | Train: 0.320020 | Val: 0.330000\n",
      "LR: 2.000000e-06 | Reg: 4.500000e+04 | Train: 0.306796 | Val: 0.327000\n",
      "LR: 2.500000e-06 | Reg: 1.500000e+04 | Train: 0.353510 | Val: 0.364000\n",
      "LR: 2.500000e-06 | Reg: 2.000000e+04 | Train: 0.338245 | Val: 0.347000\n",
      "LR: 2.500000e-06 | Reg: 2.500000e+04 | Train: 0.316531 | Val: 0.311000\n",
      "LR: 2.500000e-06 | Reg: 3.000000e+04 | Train: 0.316551 | Val: 0.323000\n",
      "LR: 2.500000e-06 | Reg: 3.500000e+04 | Train: 0.313571 | Val: 0.324000\n",
      "LR: 2.500000e-06 | Reg: 4.000000e+04 | Train: 0.315163 | Val: 0.326000\n",
      "LR: 2.500000e-06 | Reg: 4.500000e+04 | Train: 0.300265 | Val: 0.298000\n",
      "LR: 3.000000e-06 | Reg: 1.500000e+04 | Train: 0.330837 | Val: 0.342000\n",
      "LR: 3.000000e-06 | Reg: 2.000000e+04 | Train: 0.319714 | Val: 0.316000\n",
      "LR: 3.000000e-06 | Reg: 2.500000e+04 | Train: 0.320163 | Val: 0.327000\n",
      "LR: 3.000000e-06 | Reg: 3.000000e+04 | Train: 0.325184 | Val: 0.336000\n",
      "LR: 3.000000e-06 | Reg: 3.500000e+04 | Train: 0.302939 | Val: 0.308000\n",
      "LR: 3.000000e-06 | Reg: 4.000000e+04 | Train: 0.290714 | Val: 0.297000\n",
      "LR: 3.000000e-06 | Reg: 4.500000e+04 | Train: 0.308694 | Val: 0.317000\n",
      "LR: 3.500000e-06 | Reg: 1.500000e+04 | Train: 0.279633 | Val: 0.295000\n",
      "LR: 3.500000e-06 | Reg: 2.000000e+04 | Train: 0.319000 | Val: 0.327000\n",
      "LR: 3.500000e-06 | Reg: 2.500000e+04 | Train: 0.321837 | Val: 0.324000\n",
      "LR: 3.500000e-06 | Reg: 3.000000e+04 | Train: 0.299612 | Val: 0.302000\n",
      "LR: 3.500000e-06 | Reg: 3.500000e+04 | Train: 0.307245 | Val: 0.324000\n",
      "LR: 3.500000e-06 | Reg: 4.000000e+04 | Train: 0.292592 | Val: 0.316000\n",
      "LR: 3.500000e-06 | Reg: 4.500000e+04 | Train: 0.259449 | Val: 0.276000\n",
      "LR: 4.000000e-06 | Reg: 1.500000e+04 | Train: 0.336796 | Val: 0.353000\n",
      "LR: 4.000000e-06 | Reg: 2.000000e+04 | Train: 0.279653 | Val: 0.298000\n",
      "LR: 4.000000e-06 | Reg: 2.500000e+04 | Train: 0.287388 | Val: 0.293000\n",
      "LR: 4.000000e-06 | Reg: 3.000000e+04 | Train: 0.296673 | Val: 0.310000\n",
      "LR: 4.000000e-06 | Reg: 3.500000e+04 | Train: 0.307286 | Val: 0.310000\n",
      "LR: 4.000000e-06 | Reg: 4.000000e+04 | Train: 0.264551 | Val: 0.272000\n",
      "LR: 4.000000e-06 | Reg: 4.500000e+04 | Train: 0.243082 | Val: 0.250000\n",
      "LR: 4.500000e-06 | Reg: 1.500000e+04 | Train: 0.307878 | Val: 0.318000\n",
      "LR: 4.500000e-06 | Reg: 2.000000e+04 | Train: 0.270633 | Val: 0.277000\n",
      "LR: 4.500000e-06 | Reg: 2.500000e+04 | Train: 0.291714 | Val: 0.286000\n",
      "LR: 4.500000e-06 | Reg: 3.000000e+04 | Train: 0.278184 | Val: 0.286000\n",
      "LR: 4.500000e-06 | Reg: 3.500000e+04 | Train: 0.305551 | Val: 0.314000\n",
      "LR: 4.500000e-06 | Reg: 4.000000e+04 | Train: 0.267939 | Val: 0.262000\n",
      "LR: 4.500000e-06 | Reg: 4.500000e+04 | Train: 0.263510 | Val: 0.277000\n",
      "LR: 5.000000e-06 | Reg: 1.500000e+04 | Train: 0.272143 | Val: 0.296000\n",
      "LR: 5.000000e-06 | Reg: 2.000000e+04 | Train: 0.256898 | Val: 0.265000\n",
      "LR: 5.000000e-06 | Reg: 2.500000e+04 | Train: 0.260122 | Val: 0.267000\n",
      "LR: 5.000000e-06 | Reg: 3.000000e+04 | Train: 0.208510 | Val: 0.238000\n",
      "LR: 5.000000e-06 | Reg: 3.500000e+04 | Train: 0.205490 | Val: 0.230000\n",
      "LR: 5.000000e-06 | Reg: 4.000000e+04 | Train: 0.228735 | Val: 0.230000\n",
      "LR: 5.000000e-06 | Reg: 4.500000e+04 | Train: 0.245184 | Val: 0.240000\n",
      "best validation accuracy achieved during cross-validation: 0.364000\n"
     ]
    }
   ],
   "source": [
    "# Use the validation set to tune hyperparameters (regularization strength and\n",
    "# learning rate). You should experiment with different ranges for the learning\n",
    "# rates and regularization strengths; if you are careful you should be able to\n",
    "# get a classification accuracy of over 0.35 on the validation set.\n",
    "from cs231n.classifiers import Softmax\n",
    "\n",
    "results = {}\n",
    "best_val = -1\n",
    "best_softmax = None\n",
    "learning_rates = [1e-7, 5e-7]\n",
    "regularization_strengths = [2.5e4, 5e4]\n",
    "\n",
    "################################################################################\n",
    "# TODO:                                                                        #\n",
    "# Use the validation set to set the learning rate and regularization strength. #\n",
    "# This should be identical to the validation that you did for the SVM; save    #\n",
    "# the best trained softmax classifer in best_softmax.                          #\n",
    "################################################################################\n",
    "# *****START OF YOUR CODE (DO NOT DELETE/MODIFY THIS LINE)*****\n",
    "\n",
    "learning_rates = np.arange(1e-6, 5e-6, 5e-7)\n",
    "regularization_strengths = np.arange(1.5e4, 5e4, 5e3)\n",
    "\n",
    "print(len(learning_rates))\n",
    "print(len(regularization_strengths))\n",
    "\n",
    "grid_search = [(lr, reg) for lr in learning_rates for reg in regularization_strengths]\n",
    "\n",
    "for lr, reg in grid_search:\n",
    "    smx = Softmax()\n",
    "    smx.train(X_train, y_train, learning_rate=lr, reg=reg,\n",
    "             num_iters=400)\n",
    "    \n",
    "    y_train_pred = smx.predict(X_train)\n",
    "    y_val_pred = smx.predict(X_val)\n",
    "    \n",
    "    train_accuracy = np.mean(y_train_pred == y_train)\n",
    "    val_accuracy = np.mean(y_val_pred == y_val)\n",
    "    \n",
    "    results[(lr, reg)] = (train_accuracy, val_accuracy)\n",
    "    \n",
    "    print('LR: %e | Reg: %e | Train: %f | Val: %f' % (lr, reg, train_accuracy, val_accuracy))\n",
    "    \n",
    "    if best_val < val_accuracy:\n",
    "        best_val = val_accuracy\n",
    "        best_softmax = smx\n",
    "    \n",
    "# *****END OF YOUR CODE (DO NOT DELETE/MODIFY THIS LINE)*****\n",
    "    \n",
    "# Print out results.\n",
    "# for lr, reg in sorted(results):\n",
    "#     train_accuracy, val_accuracy = results[(lr, reg)]\n",
    "#     print('lr %e reg %e train accuracy: %f val accuracy: %f' % (\n",
    "#                 lr, reg, train_accuracy, val_accuracy))\n",
    "    \n",
    "print('best validation accuracy achieved during cross-validation: %f' % best_val)"
   ]
  },
  {
   "cell_type": "code",
   "execution_count": 40,
   "metadata": {},
   "outputs": [
    {
     "name": "stdout",
     "output_type": "stream",
     "text": [
      "softmax on raw pixels final test set accuracy: 0.359000\n"
     ]
    }
   ],
   "source": [
    "# evaluate on test set\n",
    "# Evaluate the best softmax on test set\n",
    "y_test_pred = best_softmax.predict(X_test)\n",
    "test_accuracy = np.mean(y_test == y_test_pred)\n",
    "print('softmax on raw pixels final test set accuracy: %f' % (test_accuracy, ))"
   ]
  },
  {
   "cell_type": "markdown",
   "metadata": {
    "tags": [
     "pdf-inline"
    ]
   },
   "source": [
    "**Inline Question 2** - *True or False*\n",
    "\n",
    "Suppose the overall training loss is defined as the sum of the per-datapoint loss over all training examples. It is possible to add a new datapoint to a training set that would leave the SVM loss unchanged, but this is not the case with the Softmax classifier loss.\n",
    "\n",
    "$\\color{blue}{\\textit Your Answer:}$\n",
    "Yes.\n",
    "\n",
    "$\\color{blue}{\\textit Your Explanation:}$\n",
    "If the sum of the difference between each score and the correct score plus delta (or some margin number) is 0, then the loss of the data point will be 0 and will not change the SVM loss. (If the correct score is a lot larger than the other scores.) But with Softmax, the probability of the correct class will never be 100%, so the -log of the score will never be 0 either.\n",
    "\n"
   ]
  },
  {
   "cell_type": "code",
   "execution_count": 41,
   "metadata": {},
   "outputs": [
    {
     "data": {
      "image/png": "[encoded data removed]",
      "text/plain": [
       "<matplotlib.figure.Figure at 0x204e7d53780>"
      ]
     },
     "metadata": {},
     "output_type": "display_data"
    }
   ],
   "source": [
    "# Visualize the learned weights for each class\n",
    "w = best_softmax.W[:-1,:] # strip out the bias\n",
    "w = w.reshape(32, 32, 3, 10)\n",
    "\n",
    "w_min, w_max = np.min(w), np.max(w)\n",
    "\n",
    "classes = ['plane', 'car', 'bird', 'cat', 'deer', 'dog', 'frog', 'horse', 'ship', 'truck']\n",
    "for i in range(10):\n",
    "    plt.subplot(2, 5, i + 1)\n",
    "    \n",
    "    # Rescale the weights to be between 0 and 255\n",
    "    wimg = 255.0 * (w[:, :, :, i].squeeze() - w_min) / (w_max - w_min)\n",
    "    plt.imshow(wimg.astype('uint8'))\n",
    "    plt.axis('off')\n",
    "    plt.title(classes[i])"
   ]
  },
  {
   "cell_type": "code",
   "execution_count": null,
   "metadata": {
    "collapsed": true
   },
   "outputs": [],
   "source": []
  }
 ],
 "metadata": {
  "kernelspec": {
   "display_name": "Python 3",
   "language": "python",
   "name": "python3"
  },
  "language_info": {
   "codemirror_mode": {
    "name": "ipython",
    "version": 3
   },
   "file_extension": ".py",
   "mimetype": "text/x-python",
   "name": "python",
   "nbconvert_exporter": "python",
   "pygments_lexer": "ipython3",
   "version": "3.7.3"
  }
 },
 "nbformat": 4,
 "nbformat_minor": 1
}
